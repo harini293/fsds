{
 "cells": [
  {
   "cell_type": "markdown",
   "id": "35528119",
   "metadata": {},
   "source": [
    "Declare two variables, `x` and `y`, and assign them integer values. Swap the\n",
    "values of these variables without using any temporary variable."
   ]
  },
  {
   "cell_type": "code",
   "execution_count": null,
   "id": "3ae89e4b",
   "metadata": {},
   "outputs": [],
   "source": [
    "x = 10\n",
    "y = 20\n",
    "x, y = y,x\n",
    "x,y"
   ]
  },
  {
   "cell_type": "markdown",
   "id": "84b1f986",
   "metadata": {},
   "source": [
    "Create a program that calculates the area of a rectangle. Take the length and\n",
    "width as inputs from the user and store them in variables. Calculate and\n",
    "display the area."
   ]
  },
  {
   "cell_type": "code",
   "execution_count": null,
   "id": "e537103b",
   "metadata": {},
   "outputs": [],
   "source": [
    "length = int(input(\"enter the length :\"))"
   ]
  },
  {
   "cell_type": "code",
   "execution_count": null,
   "id": "8903912f",
   "metadata": {},
   "outputs": [],
   "source": [
    "width = int(input(\"enter the width :\"))"
   ]
  },
  {
   "cell_type": "code",
   "execution_count": null,
   "id": "60c06ab8",
   "metadata": {},
   "outputs": [],
   "source": [
    "area = length*width\n",
    "print(area)"
   ]
  },
  {
   "cell_type": "markdown",
   "id": "2178f50a",
   "metadata": {},
   "source": [
    "Write a Python program that converts temperatures from Celsius to\n",
    "Fahrenheit. Take the temperature in Celsius as input, store it in a variable,\n",
    "convert it to Fahrenheit, and display the result."
   ]
  },
  {
   "cell_type": "code",
   "execution_count": null,
   "id": "e449ec3b",
   "metadata": {},
   "outputs": [],
   "source": [
    "cel = int(input(\"enter temperature : \"))"
   ]
  },
  {
   "cell_type": "code",
   "execution_count": null,
   "id": "e6a037ea",
   "metadata": {},
   "outputs": [],
   "source": [
    "far = ((c*9)/5)+32\n",
    "print(far)"
   ]
  },
  {
   "cell_type": "markdown",
   "id": "3e9087a8",
   "metadata": {},
   "source": [
    "Write a Python program that takes a string as input and prints the length of\n",
    "the string."
   ]
  },
  {
   "cell_type": "code",
   "execution_count": null,
   "id": "faa5e124",
   "metadata": {},
   "outputs": [],
   "source": [
    "s = input(\"enter any string : \")"
   ]
  },
  {
   "cell_type": "code",
   "execution_count": null,
   "id": "a9ff74bc",
   "metadata": {},
   "outputs": [],
   "source": [
    "print(len(string))"
   ]
  },
  {
   "cell_type": "markdown",
   "id": "d0b01c54",
   "metadata": {},
   "source": [
    "Create a program that takes a sentence from the user and counts the number\n",
    "of vowels (a, e, i, o, u) in the string."
   ]
  },
  {
   "cell_type": "code",
   "execution_count": null,
   "id": "39586ba0",
   "metadata": {},
   "outputs": [],
   "source": [
    "s = input(\"enter any sentence : \")\n",
    "l = ['a','e','i','o','u']\n",
    "count = 0\n",
    "for letter in s:\n",
    "    if s in l:\n",
    "        count +=1\n",
    "print(count)"
   ]
  },
  {
   "cell_type": "markdown",
   "id": "e8fa6f25",
   "metadata": {},
   "source": [
    "Given a string, reverse the order of characters using string slicing and print\n",
    "the reversed string."
   ]
  },
  {
   "cell_type": "code",
   "execution_count": null,
   "id": "df3422eb",
   "metadata": {},
   "outputs": [],
   "source": [
    "s = input(\"enter any string : \")"
   ]
  },
  {
   "cell_type": "code",
   "execution_count": null,
   "id": "6cf301f3",
   "metadata": {},
   "outputs": [],
   "source": [
    "print(s[::])"
   ]
  },
  {
   "cell_type": "code",
   "execution_count": null,
   "id": "49c1a4ed",
   "metadata": {},
   "outputs": [],
   "source": [
    "s1 = hello\n",
    "print(s1[::])"
   ]
  },
  {
   "cell_type": "markdown",
   "id": "1df42889",
   "metadata": {},
   "source": [
    "Write a program that takes a string as input and checks if it is a palindrome\n",
    "(reads the same forwards and backwards)."
   ]
  },
  {
   "cell_type": "code",
   "execution_count": null,
   "id": "276f0a8f",
   "metadata": {},
   "outputs": [],
   "source": [
    "s = input(\"enter any string : \")"
   ]
  },
  {
   "cell_type": "code",
   "execution_count": null,
   "id": "a1d5d6bf",
   "metadata": {},
   "outputs": [],
   "source": [
    "s.lower()\n",
    "if s == s[::]:\n",
    "    print(\"its palnidrome\")\n",
    "else:\n",
    "    print(\"its not palindrome\")"
   ]
  },
  {
   "cell_type": "markdown",
   "id": "ad871dc9",
   "metadata": {},
   "source": [
    "Create a program that takes a string as input and removes all the spaces from\n",
    "it. Print the modified string without spaces."
   ]
  },
  {
   "cell_type": "code",
   "execution_count": null,
   "id": "2ceec760",
   "metadata": {},
   "outputs": [],
   "source": [
    "s = input(\"enter any string : \")\n",
    "s.replace(\" \",)"
   ]
  }
 ],
 "metadata": {
  "kernelspec": {
   "display_name": "Python 3 (ipykernel)",
   "language": "python",
   "name": "python3"
  },
  "language_info": {
   "codemirror_mode": {
    "name": "ipython",
    "version": 3
   },
   "file_extension": ".py",
   "mimetype": "text/x-python",
   "name": "python",
   "nbconvert_exporter": "python",
   "pygments_lexer": "ipython3",
   "version": "3.9.13"
  }
 },
 "nbformat": 4,
 "nbformat_minor": 5
}
